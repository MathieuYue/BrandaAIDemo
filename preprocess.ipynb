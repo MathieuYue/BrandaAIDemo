{
  "cells": [
    {
      "cell_type": "markdown",
      "metadata": {
        "id": "8H64FYmAQTvw"
      },
      "source": [
        "Dependencies"
      ]
    },
    {
      "cell_type": "code",
      "execution_count": 2,
      "metadata": {},
      "outputs": [
        {
          "data": {
            "text/plain": [
              "True"
            ]
          },
          "execution_count": 2,
          "metadata": {},
          "output_type": "execute_result"
        }
      ],
      "source": [
        "import os\n",
        "from dotenv import load_dotenv\n",
        "load_dotenv()"
      ]
    },
    {
      "cell_type": "code",
      "execution_count": 1,
      "metadata": {
        "colab": {
          "base_uri": "https://localhost:8080/"
        },
        "id": "wBWBerPuQWQt",
        "outputId": "2dd6d568-7f75-4213-c1bd-b1791a041875"
      },
      "outputs": [
        {
          "name": "stderr",
          "output_type": "stream",
          "text": [
            "USER_AGENT environment variable not set, consider setting it to identify your requests.\n"
          ]
        }
      ],
      "source": [
        "from langchain_community.document_loaders import WebBaseLoader, SitemapLoader\n",
        "from bs4 import BeautifulSoup"
      ]
    },
    {
      "cell_type": "code",
      "execution_count": 3,
      "metadata": {
        "id": "fP1k7OCOqgmy"
      },
      "outputs": [],
      "source": [
        "import nest_asyncio\n",
        "nest_asyncio.apply()"
      ]
    },
    {
      "cell_type": "markdown",
      "metadata": {
        "id": "YxSi36IcyoYw"
      },
      "source": [
        "Loading Documents"
      ]
    },
    {
      "cell_type": "code",
      "execution_count": 4,
      "metadata": {
        "id": "wT-EYw6Og2ih"
      },
      "outputs": [],
      "source": [
        "# # Could potentially use firecrawl, figure out API cost later\n",
        "# crawl_params = {\n",
        "#     'crawlerOptions': {\n",
        "#         'includes': ['#skip-content'],\n",
        "#         'limit': 5,\n",
        "#     }\n",
        "# }\n",
        "# loader = FireCrawlLoader(\n",
        "#     api_key=os.environ[\"FIRE_CRAWL_API\"], url=\"https://www.brandeis.edu/registrar/bulletin/provisional/courses/subjects/1400.html\", mode=\"crawl\", params=crawl_params\n",
        "# )"
      ]
    },
    {
      "cell_type": "code",
      "execution_count": 5,
      "metadata": {
        "collapsed": true,
        "id": "bel9BTEKljzK"
      },
      "outputs": [],
      "source": [
        "# pages = []\n",
        "# for doc in loader.lazy_load():\n",
        "#     pages.append(doc)\n",
        "#     if len(pages) >= 10:\n",
        "#         pages = []"
      ]
    },
    {
      "cell_type": "code",
      "execution_count": 4,
      "metadata": {
        "id": "GAAPNHvLqpbZ"
      },
      "outputs": [],
      "source": [
        "def get_plain_text_with_header(content: BeautifulSoup) -> str:\n",
        "  skip_content = content.find(id=\"skip-content\")\n",
        "  return skip_content.get_text(strip=True) if skip_content else \"\""
      ]
    },
    {
      "cell_type": "code",
      "execution_count": 5,
      "metadata": {
        "id": "A0-I4fnpndDZ"
      },
      "outputs": [],
      "source": [
        "loader = SitemapLoader(\n",
        "    \"https://www.brandeis.edu/sitemap.xml\",\n",
        "    filter_urls=[\"https://www.brandeis.edu/computer-science/undergraduate/\"],\n",
        "    parsing_function=get_plain_text_with_header,\n",
        "    continue_on_failure=True\n",
        ")"
      ]
    },
    {
      "cell_type": "code",
      "execution_count": 6,
      "metadata": {
        "colab": {
          "base_uri": "https://localhost:8080/"
        },
        "id": "sr97DtjIqRCh",
        "outputId": "df7bd496-4e50-4ede-85c9-509cac7dc57b"
      },
      "outputs": [
        {
          "name": "stderr",
          "output_type": "stream",
          "text": [
            "Fetching pages: 100%|##########| 19/19 [00:02<00:00,  8.31it/s]\n"
          ]
        }
      ],
      "source": [
        "docs = loader.load()"
      ]
    },
    {
      "cell_type": "markdown",
      "metadata": {
        "id": "5NlkA7CvyrLj"
      },
      "source": [
        "Chunking"
      ]
    },
    {
      "cell_type": "code",
      "execution_count": 7,
      "metadata": {
        "id": "f15Rw0d2qnli"
      },
      "outputs": [],
      "source": [
        "from langchain_text_splitters import RecursiveCharacterTextSplitter"
      ]
    },
    {
      "cell_type": "code",
      "execution_count": 8,
      "metadata": {
        "id": "9LIVk6xIvrUn"
      },
      "outputs": [],
      "source": [
        "text_splitter = RecursiveCharacterTextSplitter(\n",
        "    chunk_size=1000,\n",
        "    chunk_overlap=200,\n",
        "    add_start_index=True\n",
        ")\n",
        "splits = text_splitter.split_documents(docs)"
      ]
    },
    {
      "cell_type": "markdown",
      "metadata": {
        "id": "SEasMTvay59p"
      },
      "source": [
        "Embedding"
      ]
    },
    {
      "cell_type": "code",
      "execution_count": 12,
      "metadata": {
        "id": "Pm6F6LU1wize"
      },
      "outputs": [],
      "source": [
        "from langchain_openai import OpenAIEmbeddings\n",
        "embeddings = OpenAIEmbeddings(model=\"text-embedding-3-small\", api_key=os.getenv(\"OPENAI_API_KEY\"))\n",
        "url = \"9cb98d40-7c3b-441b-9b6d-4f1ac13eb1fa.europe-west3-0.gcp.cloud.qdrant.io\""
      ]
    },
    {
      "cell_type": "code",
      "execution_count": 13,
      "metadata": {
        "id": "VnaQ_KKfzE2P"
      },
      "outputs": [],
      "source": [
        "from langchain_qdrant import QdrantVectorStore\n",
        "from qdrant_client import QdrantClient\n",
        "from qdrant_client.http.models import Distance, VectorParams"
      ]
    },
    {
      "cell_type": "code",
      "execution_count": 17,
      "metadata": {
        "id": "sFUQMVCz3KSy"
      },
      "outputs": [],
      "source": [
        "qdrant = QdrantVectorStore.from_documents(\n",
        "    splits,\n",
        "    embeddings,\n",
        "    url=url,\n",
        "    prefer_grpc=True,\n",
        "    api_key=os.getenv(\"QDRANT_CLUSTER_KEY\"),\n",
        "    collection_name=\"brandeis.edu\",\n",
        ")"
      ]
    },
    {
      "cell_type": "code",
      "execution_count": 15,
      "metadata": {
        "id": "0e2MVVoK3XDd"
      },
      "outputs": [],
      "source": [
        "results = qdrant.similarity_search(\n",
        "    \"What courses to I need to get the cosi major?\", k=5\n",
        ")"
      ]
    },
    {
      "cell_type": "code",
      "execution_count": 16,
      "metadata": {
        "colab": {
          "base_uri": "https://localhost:8080/"
        },
        "id": "qzFVgxwY2iTH",
        "outputId": "771571ac-c5d2-495d-afa5-200bf1b0b575"
      },
      "outputs": [
        {
          "name": "stdout",
          "output_type": "stream",
          "text": [
            "or BIOL 51a or PSYC 51aCOSI 131a: Operating SystemsCOSI 121b: Structure and Interpretation of Computer ProgramsCOSI 130a: Intro. to Theory of ComputationSix ElectivesFull details and recommendations are provided in theUniversity Bulletin.Additional RequirementsMath 8a: Introduction to Probability and Statistics or MATH 36a, ECON 83a, BIOL 51a, or PSYC 51aMATH 10a: Techniques of CalculusAdditional Requirements for Degree with Departmental HonorsGraduation with honors in computer science requires completion and defense of a senior honors thesis. Students interested in senior thesis should contact prospective mentors by the spring of their junior year and should take note of the prerequisites for enrollment in COSI 99d (Senior Research).MinorCore CoursesCOSI 12b: Advanced Programming Techniques in JavaCOSI 21a: Data Structures and the Fundamentals of ComputingFour ElectivesForBusiness Majors,we suggest the following electives:COSI 102a: Software EntrepreneurshipCOSI 125a: Human Computer\n",
            "or BIOL 51a or PSYC 51aCOSI 131a: Operating SystemsCOSI 121b: Structure and Interpretation of Computer ProgramsCOSI 130a: Intro. to Theory of ComputationSix ElectivesFull details and recommendations are provided in theUniversity Bulletin.Additional RequirementsMath 8a: Introduction to Probability and Statistics or MATH 36a, ECON 83a, BIOL 51a, or PSYC 51aMATH 10a: Techniques of CalculusAdditional Requirements for Degree with Departmental HonorsGraduation with honors in computer science requires completion and defense of a senior honors thesis. Students interested in senior thesis should contact prospective mentors by the spring of their junior year and should take note of the prerequisites for enrollment in COSI 99d (Senior Research).MinorCore CoursesCOSI 12b: Advanced Programming Techniques in JavaCOSI 21a: Data Structures and the Fundamentals of ComputingFour ElectivesForBusiness Majors,we suggest the following electives:COSI 102a: Software EntrepreneurshipCOSI 125a: Human Computer\n",
            "by following theseinstructions.How do I declare/change/drop a major or minor in Computer Science?Please send anemailto the UAH, Professor Antonella Di Lillo, and include:Workday ID numberMajor or minorType of major (BA vs. BS)I learned programming on my own, what is the first COSI course I should take?Placement in the introductory Computer Science courses is determined through theCOSI Placement Examand advising.I wish to take COSI 21a even though I haven't taken COSI 12b. Is this possible?No. COSI 12b is a strict prerequisite to COSI 21a.How do I get an exemption from required courses?Students who believe they have taken a course equivalent to one required for the Computer Science major or minor may apply for a substitution. We will verify that your proposed substitute is indeed equivalent to the Brandeis course propose. Please apply for the substitution by submitting asubstitution petition.How can I propose the substitution of a different course for a course required for the major or\n",
            "by following theseinstructions.How do I declare/change/drop a major or minor in Computer Science?Please send anemailto the UAH, Professor Antonella Di Lillo, and include:Workday ID numberMajor or minorType of major (BA vs. BS)I learned programming on my own, what is the first COSI course I should take?Placement in the introductory Computer Science courses is determined through theCOSI Placement Examand advising.I wish to take COSI 21a even though I haven't taken COSI 12b. Is this possible?No. COSI 12b is a strict prerequisite to COSI 21a.How do I get an exemption from required courses?Students who believe they have taken a course equivalent to one required for the Computer Science major or minor may apply for a substitution. We will verify that your proposed substitute is indeed equivalent to the Brandeis course propose. Please apply for the substitution by submitting asubstitution petition.How can I propose the substitution of a different course for a course required for the major or\n",
            "in JavaCOSI 21a: Data Structures and the Fundamentals of ComputingFour ElectivesForBusiness Majors,we suggest the following electives:COSI 102a: Software EntrepreneurshipCOSI 125a: Human Computer InteractionCOSI 127b: Database Management SystemsForBiology Majors,we suggest the following electives:COSI 101a: Artificial IntelligenceCOSI 113b: Artifical LifeCOSI 123a: Statistical Machine LearningCOSI 165a: 3D AnimationCOSI 178a: Computational Molecular BiologyForPsychology Majors,we suggest the following electives:COSI 101a: Artificial IntelligenceCOSI 111a: Topics in Computational Cognitive ScienceCOSI 114a: Topics in Computational LinguisticsCOSI 118a: Computer Supported CooperationCOSI 125a: Human-Computer InteractionFull details and other recommendations are provided in theUniversity Bulletin.\n"
          ]
        }
      ],
      "source": [
        "for r in results:\n",
        "  print(r.page_content)"
      ]
    },
    {
      "cell_type": "code",
      "execution_count": null,
      "metadata": {
        "id": "8d80OvKa5URz"
      },
      "outputs": [],
      "source": []
    },
    {
      "cell_type": "code",
      "execution_count": null,
      "metadata": {
        "id": "3Q0ZA8d2VL8K"
      },
      "outputs": [],
      "source": []
    }
  ],
  "metadata": {
    "colab": {
      "provenance": []
    },
    "kernelspec": {
      "display_name": "base",
      "language": "python",
      "name": "python3"
    },
    "language_info": {
      "codemirror_mode": {
        "name": "ipython",
        "version": 3
      },
      "file_extension": ".py",
      "mimetype": "text/x-python",
      "name": "python",
      "nbconvert_exporter": "python",
      "pygments_lexer": "ipython3",
      "version": "3.11.4"
    }
  },
  "nbformat": 4,
  "nbformat_minor": 0
}
